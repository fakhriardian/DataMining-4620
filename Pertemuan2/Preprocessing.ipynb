{
  "nbformat": 4,
  "nbformat_minor": 0,
  "metadata": {
    "colab": {
      "name": "Preprocessing.ipynb",
      "provenance": []
    },
    "kernelspec": {
      "name": "python3",
      "display_name": "Python 3"
    },
    "language_info": {
      "name": "python"
    }
  },
  "cells": [
    {
      "cell_type": "code",
      "execution_count": null,
      "metadata": {
        "id": "IZbBNODwKqMO"
      },
      "outputs": [],
      "source": [
        "import numpy as np\n",
        "import matplotlib.pyplot as plt\n",
        "import pandas as pd"
      ]
    },
    {
      "cell_type": "code",
      "source": [
        "dataset = pd.read_csv('data-pajak-parkir-di-dki-jakarta-bulan-desember-2020.csv')\n",
        "x = dataset.iloc[:, :-1].values\n",
        "y = dataset.iloc[:, -1].values"
      ],
      "metadata": {
        "id": "qdFdehqgLDcj"
      },
      "execution_count": 9,
      "outputs": []
    },
    {
      "cell_type": "code",
      "source": [
        "print(x)"
      ],
      "metadata": {
        "id": "vchf6zC4LHUE",
        "colab": {
          "base_uri": "https://localhost:8080/"
        },
        "outputId": "3b57a727-3ecb-4530-8869-74a2892e2a9d"
      },
      "execution_count": 10,
      "outputs": [
        {
          "output_type": "stream",
          "name": "stdout",
          "text": [
            "[['Jakarta Barat' 31 12 2020 3970874005.0]\n",
            " ['Jakarta Pusat' 31 12 2020 nan]\n",
            " ['Jakarta Selatan' 31 12 2020 10510131146.0]\n",
            " ['Jakarta Timur' 31 12 2020 nan]\n",
            " ['Jakarta Utara' 31 12 2020 3464173701.0]]\n"
          ]
        }
      ]
    },
    {
      "cell_type": "code",
      "source": [
        "print(y)"
      ],
      "metadata": {
        "colab": {
          "base_uri": "https://localhost:8080/"
        },
        "id": "V65xlpxeMifN",
        "outputId": "fefd2146-c3c7-4812-9d73-23ca46aa0403"
      },
      "execution_count": 11,
      "outputs": [
        {
          "output_type": "stream",
          "name": "stdout",
          "text": [
            "['Pajak Parkir' 'Pajak Parkir' 'Pajak Parkir' 'Pajak Parkir'\n",
            " 'Pajak Parkir']\n"
          ]
        }
      ]
    },
    {
      "cell_type": "code",
      "source": [
        "from sklearn.impute import SimpleImputer\n",
        "imputer = SimpleImputer(missing_values=np.nan, strategy='mean')\n",
        "imputer.fit(x[:, 1:5])\n",
        "x[:, 1:5] = imputer.transform(x[:, 1:5])"
      ],
      "metadata": {
        "id": "2E0rK9jsNvxA"
      },
      "execution_count": 14,
      "outputs": []
    },
    {
      "cell_type": "code",
      "source": [
        "print(x)"
      ],
      "metadata": {
        "colab": {
          "base_uri": "https://localhost:8080/"
        },
        "id": "ST8QeW0MNyUK",
        "outputId": "f01e3ff2-cb38-41fd-86cb-539774441b7e"
      },
      "execution_count": 15,
      "outputs": [
        {
          "output_type": "stream",
          "name": "stdout",
          "text": [
            "[['Jakarta Barat' 31.0 12.0 2020.0 3970874005.0]\n",
            " ['Jakarta Pusat' 31.0 12.0 2020.0 5981726284.0]\n",
            " ['Jakarta Selatan' 31.0 12.0 2020.0 10510131146.0]\n",
            " ['Jakarta Timur' 31.0 12.0 2020.0 5981726284.0]\n",
            " ['Jakarta Utara' 31.0 12.0 2020.0 3464173701.0]]\n"
          ]
        }
      ]
    },
    {
      "cell_type": "code",
      "source": [
        "from sklearn.compose import ColumnTransformer\n",
        "from sklearn.preprocessing import OneHotEncoder\n",
        "ct = ColumnTransformer(transformers=[('encoder', OneHotEncoder(), [0])], remainder='passthrough')\n",
        "x = np.array(ct.fit_transform(x))"
      ],
      "metadata": {
        "id": "s9eQsyYyUzZM"
      },
      "execution_count": 16,
      "outputs": []
    },
    {
      "cell_type": "code",
      "source": [
        "print(x)"
      ],
      "metadata": {
        "colab": {
          "base_uri": "https://localhost:8080/"
        },
        "id": "4n3Xiim9WbQr",
        "outputId": "4c586f60-e24f-4a11-a567-5b53e5254ad9"
      },
      "execution_count": 17,
      "outputs": [
        {
          "output_type": "stream",
          "name": "stdout",
          "text": [
            "[[1.0 0.0 0.0 0.0 0.0 31.0 12.0 2020.0 3970874005.0]\n",
            " [0.0 1.0 0.0 0.0 0.0 31.0 12.0 2020.0 5981726284.0]\n",
            " [0.0 0.0 1.0 0.0 0.0 31.0 12.0 2020.0 10510131146.0]\n",
            " [0.0 0.0 0.0 1.0 0.0 31.0 12.0 2020.0 5981726284.0]\n",
            " [0.0 0.0 0.0 0.0 1.0 31.0 12.0 2020.0 3464173701.0]]\n"
          ]
        }
      ]
    },
    {
      "cell_type": "code",
      "source": [
        "from sklearn.preprocessing import LabelEncoder\n",
        "le = LabelEncoder()\n",
        "y = le.fit_transform(y)"
      ],
      "metadata": {
        "id": "5UyFo44JXRKY"
      },
      "execution_count": 18,
      "outputs": []
    },
    {
      "cell_type": "code",
      "source": [
        "print(y)"
      ],
      "metadata": {
        "colab": {
          "base_uri": "https://localhost:8080/"
        },
        "id": "Chu5Z1zFXocU",
        "outputId": "478692c9-930c-4f15-9fbd-acbe9cfe99cf"
      },
      "execution_count": 19,
      "outputs": [
        {
          "output_type": "stream",
          "name": "stdout",
          "text": [
            "[0 0 0 0 0]\n"
          ]
        }
      ]
    },
    {
      "cell_type": "code",
      "source": [
        "from sklearn.model_selection import train_test_split\n",
        "x_train, x_test, y_train, y_test = train_test_split(x, y, test_size=0.2, random_state = 1)\n"
      ],
      "metadata": {
        "id": "-uzpRh8QX30h"
      },
      "execution_count": 25,
      "outputs": []
    },
    {
      "cell_type": "code",
      "source": [
        "print(x_train)"
      ],
      "metadata": {
        "colab": {
          "base_uri": "https://localhost:8080/"
        },
        "id": "D1QLS5iSYhxT",
        "outputId": "bb8d02b6-d57d-4778-8f1a-29fca3923896"
      },
      "execution_count": 26,
      "outputs": [
        {
          "output_type": "stream",
          "name": "stdout",
          "text": [
            "[[0.0 1.0 0.0 0.0 0.0 31.0 12.0 2020.0 5981726284.0]\n",
            " [0.0 0.0 0.0 0.0 1.0 31.0 12.0 2020.0 3464173701.0]\n",
            " [1.0 0.0 0.0 0.0 0.0 31.0 12.0 2020.0 3970874005.0]\n",
            " [0.0 0.0 0.0 1.0 0.0 31.0 12.0 2020.0 5981726284.0]]\n"
          ]
        }
      ]
    },
    {
      "cell_type": "code",
      "source": [
        "print(x_test)"
      ],
      "metadata": {
        "colab": {
          "base_uri": "https://localhost:8080/"
        },
        "id": "p__3tJ-BEwZV",
        "outputId": "da009fe1-bfee-413a-851a-70dee3b98c3c"
      },
      "execution_count": 27,
      "outputs": [
        {
          "output_type": "stream",
          "name": "stdout",
          "text": [
            "[[0.0 0.0 1.0 0.0 0.0 31.0 12.0 2020.0 10510131146.0]]\n"
          ]
        }
      ]
    },
    {
      "cell_type": "code",
      "source": [
        "print(y_train)"
      ],
      "metadata": {
        "colab": {
          "base_uri": "https://localhost:8080/"
        },
        "id": "ITY7Jc2LFHvy",
        "outputId": "00855b7f-550f-48a2-cdb6-bee9269dc5b4"
      },
      "execution_count": 28,
      "outputs": [
        {
          "output_type": "stream",
          "name": "stdout",
          "text": [
            "[0 0 0 0]\n"
          ]
        }
      ]
    },
    {
      "cell_type": "code",
      "source": [
        "print(y_test)"
      ],
      "metadata": {
        "colab": {
          "base_uri": "https://localhost:8080/"
        },
        "id": "oRbgd-eyFLW6",
        "outputId": "8c46cf9e-a3f6-4ce2-eb0a-0096846d8f02"
      },
      "execution_count": 29,
      "outputs": [
        {
          "output_type": "stream",
          "name": "stdout",
          "text": [
            "[0]\n"
          ]
        }
      ]
    },
    {
      "cell_type": "code",
      "source": [
        "from sklearn.preprocessing import StandardScaler\n",
        "sc = StandardScaler()\n",
        "x_train[:, 4:] = sc.fit_transform(x_train[:, 4:])\n",
        "x_test[:, 4:] = sc.transform(x_test[:, 4:])"
      ],
      "metadata": {
        "id": "u6kiqLJfFegT"
      },
      "execution_count": 32,
      "outputs": []
    },
    {
      "cell_type": "code",
      "source": [
        "print(x_train)"
      ],
      "metadata": {
        "colab": {
          "base_uri": "https://localhost:8080/"
        },
        "id": "sFft5FkEGN2e",
        "outputId": "9454ef3f-1495-4d78-db13-f376990008fb"
      },
      "execution_count": 33,
      "outputs": [
        {
          "output_type": "stream",
          "name": "stdout",
          "text": [
            "[[0.0 1.0 0.0 0.0 -0.5773502691896257 0.0 0.0 0.0 0.9877101159670835]\n",
            " [0.0 0.0 0.0 0.0 1.7320508075688774 0.0 0.0 0.0 -1.2087473382455522]\n",
            " [1.0 0.0 0.0 0.0 -0.5773502691896257 0.0 0.0 0.0 -0.7666728936886147]\n",
            " [0.0 0.0 0.0 1.0 -0.5773502691896257 0.0 0.0 0.0 0.9877101159670835]]\n"
          ]
        }
      ]
    },
    {
      "cell_type": "code",
      "source": [
        "print(x_test)"
      ],
      "metadata": {
        "colab": {
          "base_uri": "https://localhost:8080/"
        },
        "id": "tsd4LU-fGUMS",
        "outputId": "ac221ac7-9911-4673-b34a-6f946ae79f69"
      },
      "execution_count": 34,
      "outputs": [
        {
          "output_type": "stream",
          "name": "stdout",
          "text": [
            "[[0.0 0.0 1.0 0.0 5.551115123125783e-17 31.0 12.0 2020.0 10510131146.0]]\n"
          ]
        }
      ]
    }
  ]
}